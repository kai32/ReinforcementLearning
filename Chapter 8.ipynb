{
 "cells": [
  {
   "cell_type": "markdown",
   "metadata": {},
   "source": [
    "# Chapter 8"
   ]
  },
  {
   "cell_type": "code",
   "execution_count": 127,
   "metadata": {},
   "outputs": [],
   "source": [
    "import numpy as np\n",
    "import matplotlib.pyplot as plt\n",
    "%matplotlib inline\n",
    "from collections import defaultdict\n",
    "import copy"
   ]
  },
  {
   "cell_type": "markdown",
   "metadata": {},
   "source": [
    "## Example 8.1 - maze"
   ]
  },
  {
   "cell_type": "code",
   "execution_count": 115,
   "metadata": {},
   "outputs": [],
   "source": [
    "class Maze:\n",
    "    \"\"\"\n",
    "    env will be an interface with the following methods:\n",
    "    start: return a starting state\n",
    "    act: takes in an action and return next_state, reward, is_end\n",
    "    it should also have a class variable for actions allowed\n",
    "    \"\"\"\n",
    "    actions = ['u', 'd', 'l', 'r']\n",
    "    blocked = [(2,2), (2,3), (2,4), (5,1), (7,3), (7,4), (7,5)]\n",
    "    start_state = (0, 3)\n",
    "    goal_state = (8, 5)\n",
    "    x_lim = 8\n",
    "    y_lim = 5\n",
    "    \n",
    "    def plot(self):\n",
    "        plt.figure(figsize=(9, 6))\n",
    "        plt.ylim([0,6])\n",
    "        plt.xlim([0, 9])\n",
    "        plt.text(self.start_state[0] + 0.5, self.start_state[1] + 0.5, \"S\")\n",
    "        plt.text(self.goal_state[0] + 0.5, self.goal_state[1] + 0.5, \"G\")\n",
    "        for coor in self.blocked:\n",
    "            plt.text(coor[0] + 0.5, coor[1] + 0.5, \"X\", color='red', fontsize='24')\n",
    "        plt.grid()\n",
    "        \n",
    "    def start(self):\n",
    "        self.state = self.start_state\n",
    "        return self.state\n",
    "    \n",
    "    def act(self, action):\n",
    "        if action == 'l':\n",
    "            next_state = max(0, self.state[0] -1), self.state[1]\n",
    "        elif action == 'r':\n",
    "            next_state = min(self.x_lim, self.state[0] + 1), self.state[1]\n",
    "        elif action == 'd':\n",
    "            next_state = self.state[0], max(0, self.state[1] - 1)\n",
    "        else:\n",
    "            next_state = self.state[0], min(self.state[1] + 1, self.y_lim)\n",
    "        if next_state in self.blocked:\n",
    "            next_state = self.state\n",
    "        self.state = next_state\n",
    "        if self.state == self.goal_state:\n",
    "            return self.state, 1, True\n",
    "        else:\n",
    "            return self.state, 0, False\n",
    "        "
   ]
  },
  {
   "cell_type": "code",
   "execution_count": 116,
   "metadata": {},
   "outputs": [],
   "source": [
    "maze = Maze()"
   ]
  },
  {
   "cell_type": "code",
   "execution_count": 117,
   "metadata": {},
   "outputs": [
    {
     "data": {
      "image/png": "[encoded data removed]",
      "text/plain": [
       "<matplotlib.figure.Figure at 0x10b39d1d0>"
      ]
     },
     "metadata": {},
     "output_type": "display_data"
    }
   ],
   "source": [
    "maze.plot()"
   ]
  },
  {
   "cell_type": "code",
   "execution_count": 553,
   "metadata": {},
   "outputs": [],
   "source": [
    "class DynaQ:\n",
    "    def __init__(self, env, alpha, epsilon, n, gamma=1):\n",
    "        self.env = env\n",
    "        self.alpha = alpha\n",
    "        self.epsilon = epsilon\n",
    "        self.gamma = gamma\n",
    "        self.Q = defaultdict(int)\n",
    "        self.model = {}\n",
    "        self.actions = env.actions\n",
    "        self.n = n\n",
    "        self.stats = [] # each entry will be a tuple of (episode, steps per episode)\n",
    "        self.archive = []\n",
    "        self.rewards = []\n",
    "        \n",
    "    def select_action(self, state):\n",
    "        if np.random.uniform() < self.epsilon:\n",
    "            return np.random.choice(self.actions)\n",
    "        else:\n",
    "            best_value = -10000\n",
    "            best_action = []\n",
    "            for action in self.actions:\n",
    "                value = self.Q[state, action]\n",
    "                if value > best_value:\n",
    "                    best_value = value\n",
    "                    best_action = [action]\n",
    "                elif value == best_value:\n",
    "                    best_action.append(action)\n",
    "            return np.random.choice(best_action)\n",
    "        \n",
    "    def best_Q(self, state):\n",
    "        return max([self.Q[state, action] for action in self.actions])\n",
    "    \n",
    "    def train(self, episodes, max_timestep = None):\n",
    "        for episode in range(1, 1 + episodes):\n",
    "            steps = 0\n",
    "            state = self.env.start()\n",
    "            is_end = False\n",
    "            while not is_end:\n",
    "                action = self.select_action(state)\n",
    "                next_state, reward, is_end = self.env.act(action)\n",
    "                self.Q[state, action] += self.alpha * (reward + self.gamma * self.best_Q(next_state) - self.Q[state, action])\n",
    "                self.model[state, action] = (reward, next_state)\n",
    "                state = next_state\n",
    "                self.rewards.append(reward)\n",
    "                for i in range(self.n):\n",
    "                    sample_state, sample_action = list(self.model.keys())[np.random.randint(0, len(self.model))]\n",
    "                    sample_reward, sample_next_state = self.model[sample_state, sample_action]\n",
    "                    self.Q[sample_state, sample_action] += self.alpha * (sample_reward + \\\n",
    "                                        self.gamma * self.best_Q(sample_next_state) - self.Q[sample_state, sample_action])\n",
    "                steps += 1\n",
    "                if max_timestep is not None and len(self.rewards) > max_timestep:\n",
    "                    return\n",
    "                if episode == 2:\n",
    "                    # archive\n",
    "                    self.archive.append((state, copy.deepcopy(self.Q)))\n",
    "            self.stats.append((episode, steps))\n",
    "        "
   ]
  },
  {
   "cell_type": "code",
   "execution_count": 126,
   "metadata": {},
   "outputs": [
    {
     "data": {
      "text/plain": [
       "Text(0.5,1,'Figure 8.3')"
      ]
     },
     "execution_count": 126,
     "metadata": {},
     "output_type": "execute_result"
    },
    {
     "data": {
      "image/png": "[encoded data removed]",
      "text/plain": [
       "<matplotlib.figure.Figure at 0x10b58d6d8>"
      ]
     },
     "metadata": {},
     "output_type": "display_data"
    }
   ],
   "source": [
    "for n in [0, 5, 50]:\n",
    "    all_steps = []\n",
    "    for i in range(30):\n",
    "        np.random.seed = 2*i # generate seed that will be consistent across algs for each repitition\n",
    "        dyna = DynaQ(maze, 0.1, 0.1, n, 0.95)\n",
    "        dyna.train(50)\n",
    "        episodes, steps = zip(*dyna.stats)\n",
    "        all_steps.append(steps)\n",
    "    plt.plot(episodes, np.mean(all_steps, axis=0), label='n=%d' %n)\n",
    "\n",
    "plt.legend()\n",
    "plt.xlabel('Episodes')\n",
    "plt.ylabel('Steps per episode')\n",
    "plt.title('Figure 8.3')"
   ]
  },
  {
   "cell_type": "code",
   "execution_count": 145,
   "metadata": {},
   "outputs": [],
   "source": [
    "dyna50 = DynaQ(maze, 0.1, 0.1, 50, 0.95)"
   ]
  },
  {
   "cell_type": "code",
   "execution_count": 146,
   "metadata": {},
   "outputs": [],
   "source": [
    "dyna50.train(2)"
   ]
  },
  {
   "cell_type": "code",
   "execution_count": 147,
   "metadata": {},
   "outputs": [],
   "source": [
    "state, Q = dyna50.archive[len(dyna50.archive)//2]"
   ]
  },
  {
   "cell_type": "code",
   "execution_count": 148,
   "metadata": {},
   "outputs": [
    {
     "data": {
      "text/plain": [
       "Text(0.5,1,'With planning (n=50)')"
      ]
     },
     "execution_count": 148,
     "metadata": {},
     "output_type": "execute_result"
    },
    {
     "data": {
      "image/png": "[encoded data removed]",
      "text/plain": [
       "<matplotlib.figure.Figure at 0x10b9916d8>"
      ]
     },
     "metadata": {},
     "output_type": "display_data"
    }
   ],
   "source": [
    "maze.plot()\n",
    "for x in range(9):\n",
    "    for y in range(6):\n",
    "        q = [Q[(x,y), action] for action in maze.actions]\n",
    "        all_equal = True\n",
    "        previous = q[0]\n",
    "        for value in q:\n",
    "            if not value == previous:\n",
    "                all_equal = False\n",
    "        if not all_equal:\n",
    "            plt.text(x+0.5, y+0.5, maze.actions[np.argmax(q)])\n",
    "plt.text(state[0] + 0.5, state[1] + 0.5, \"here\")\n",
    "plt.title('With planning (n=50)')"
   ]
  },
  {
   "cell_type": "code",
   "execution_count": 153,
   "metadata": {},
   "outputs": [],
   "source": [
    "dyna0 = DynaQ(maze, 0.1, 0.1, 0, 0.95)"
   ]
  },
  {
   "cell_type": "code",
   "execution_count": 154,
   "metadata": {},
   "outputs": [],
   "source": [
    "dyna0.train(2)"
   ]
  },
  {
   "cell_type": "code",
   "execution_count": 155,
   "metadata": {},
   "outputs": [
    {
     "data": {
      "text/plain": [
       "Text(0.5,1,'Without planning (n=0)')"
      ]
     },
     "execution_count": 155,
     "metadata": {},
     "output_type": "execute_result"
    },
    {
     "data": {
      "image/png": "[encoded data removed]",
      "text/plain": [
       "<matplotlib.figure.Figure at 0x10bc8c710>"
      ]
     },
     "metadata": {},
     "output_type": "display_data"
    }
   ],
   "source": [
    "state, Q = dyna0.archive[len(dyna0.archive)//2]\n",
    "maze.plot()\n",
    "for x in range(9):\n",
    "    for y in range(6):\n",
    "        q = [Q[(x,y), action] for action in maze.actions]\n",
    "        all_equal = True\n",
    "        previous = q[0]\n",
    "        for value in q:\n",
    "            if not value == previous:\n",
    "                all_equal = False\n",
    "        if not all_equal:\n",
    "            plt.text(x+0.5, y+0.5, maze.actions[np.argmax(q)])\n",
    "plt.text(state[0] + 0.5, state[1] + 0.5, \"here\")\n",
    "plt.title('Without planning (n=0)')"
   ]
  },
  {
   "cell_type": "markdown",
   "metadata": {},
   "source": [
    "## Example 8.2"
   ]
  },
  {
   "cell_type": "code",
   "execution_count": 296,
   "metadata": {},
   "outputs": [],
   "source": [
    "class BlockedMaze:\n",
    "    \"\"\"\n",
    "    env will be an interface with the following methods:\n",
    "    start: return a starting state\n",
    "    act: takes in an action and return next_state, reward, is_end\n",
    "    it should also have a class variable for actions allowed\n",
    "    \"\"\"\n",
    "    actions = ['u', 'd', 'l', 'r']\n",
    "    blocked = [(i,2) for i in range(8)]\n",
    "    start_state = (3, 0)\n",
    "    goal_state = (8, 5)\n",
    "    x_lim = 8\n",
    "    y_lim = 5\n",
    "    step = 0\n",
    "    \n",
    "    def plot(self):\n",
    "        plt.figure(figsize=(9, 6))\n",
    "        plt.ylim([0,6])\n",
    "        plt.xlim([0, 9])\n",
    "        plt.text(self.start_state[0] + 0.5, self.start_state[1] + 0.5, \"S\")\n",
    "        plt.text(self.goal_state[0] + 0.5, self.goal_state[1] + 0.5, \"G\")\n",
    "        for coor in self.blocked:\n",
    "            plt.text(coor[0] + 0.5, coor[1] + 0.5, \"X\", color='red', fontsize='24')\n",
    "        plt.grid()\n",
    "        \n",
    "    def start(self):\n",
    "        self.state = self.start_state\n",
    "        return self.state\n",
    "    \n",
    "    def act(self, action):\n",
    "        if self.step == 1000:\n",
    "            self.blocked = self.blocked[1:]\n",
    "            self.blocked.append((8, 2))\n",
    "        self.step += 1\n",
    "        if action == 'l':\n",
    "            next_state = max(0, self.state[0] -1), self.state[1]\n",
    "        elif action == 'r':\n",
    "            next_state = min(self.x_lim, self.state[0] + 1), self.state[1]\n",
    "        elif action == 'd':\n",
    "            next_state = self.state[0], max(0, self.state[1] - 1)\n",
    "        else:\n",
    "            next_state = self.state[0], min(self.state[1] + 1, self.y_lim)\n",
    "        if next_state in self.blocked:\n",
    "            next_state = self.state\n",
    "        self.state = next_state\n",
    "        if self.state == self.goal_state:\n",
    "            return self.state, 1, True\n",
    "        else:\n",
    "            return self.state, 0, False\n",
    "    def reset(self):\n",
    "        self.step = 0\n",
    "        self.blocked = [(i,2) for i in range(8)]"
   ]
  },
  {
   "cell_type": "code",
   "execution_count": 297,
   "metadata": {},
   "outputs": [],
   "source": [
    "blockedMaze = BlockedMaze()"
   ]
  },
  {
   "cell_type": "code",
   "execution_count": 298,
   "metadata": {},
   "outputs": [
    {
     "data": {
      "image/png": "[encoded data removed]",
      "text/plain": [
       "<matplotlib.figure.Figure at 0x10ee3f0f0>"
      ]
     },
     "metadata": {},
     "output_type": "display_data"
    }
   ],
   "source": [
    "blockedMaze.plot()"
   ]
  },
  {
   "cell_type": "code",
   "execution_count": 542,
   "metadata": {},
   "outputs": [],
   "source": [
    "class DynaQPlus:\n",
    "    def __init__(self, env, alpha, epsilon, n, kappa, gamma=1):\n",
    "        self.env = env\n",
    "        self.alpha = alpha\n",
    "        self.epsilon = epsilon\n",
    "        self.gamma = gamma\n",
    "        self.Q = defaultdict(int)\n",
    "        self.model = {}\n",
    "        self.actions = env.actions\n",
    "        self.n = n\n",
    "        self.kappa = kappa\n",
    "        self.rewards = []\n",
    "        self.steps = 0\n",
    "        self.visited = {}\n",
    "        self.visited_states = []\n",
    "        \n",
    "    def select_action(self, state):\n",
    "        if np.random.uniform() < self.epsilon:\n",
    "            return np.random.choice(self.actions)\n",
    "        else:\n",
    "            best_value = -10000\n",
    "            best_action = []\n",
    "            for action in self.actions:\n",
    "                value = self.Q[state, action]\n",
    "                if value > best_value:\n",
    "                    best_value = value\n",
    "                    best_action = [action]\n",
    "                elif value == best_value:\n",
    "                    best_action.append(action)\n",
    "            return np.random.choice(best_action)\n",
    "        \n",
    "    def best_Q(self, state):\n",
    "        return max([self.Q[state, action] for action in self.actions])\n",
    "    \n",
    "    def train(self, episodes, max_timestep = None):\n",
    "        for episode in range(1, 1 + episodes):\n",
    "            state = self.env.start()\n",
    "            is_end = False\n",
    "            while not is_end:\n",
    "                action = self.select_action(state)\n",
    "                next_state, reward, is_end = self.env.act(action)\n",
    "                self.Q[state, action] += self.alpha * (reward + self.gamma * self.best_Q(next_state) - self.Q[state, action])\n",
    "                self.model[state, action] = (reward, next_state, self.steps)\n",
    "                for a in self.actions:\n",
    "                    if not a == action and (state, a) not in self.model.keys():\n",
    "                        self.model[(state, a)] = (0, state, 0)\n",
    "                state = next_state\n",
    "                self.rewards.append(reward)\n",
    "                for i in range(self.n):\n",
    "                    sample_state, sample_action = list(self.model.keys())[np.random.randint(0, len(self.model))]\n",
    "                    sample_reward, sample_next_state, time = self.model[sample_state, sample_action]\n",
    "                    sample_reward += self.kappa * np.sqrt(self.steps - time)\n",
    "                    self.Q[sample_state, sample_action] += self.alpha * (sample_reward + \\\n",
    "                                        self.gamma * self.best_Q(sample_next_state) - self.Q[sample_state, sample_action])\n",
    "                self.steps += 1\n",
    "                if max_timestep is not None and self.steps > max_timestep:\n",
    "                    return \n",
    "        "
   ]
  },
  {
   "cell_type": "code",
   "execution_count": 564,
   "metadata": {},
   "outputs": [],
   "source": [
    "dynaQ_rewards = []\n",
    "dynaQplus_rewards = []\n",
    "for i in range(30):\n",
    "    blockedMaze.reset()\n",
    "    dynaQ = DynaQ(blockedMaze, 0.8, 0.1, 10, 0.95)\n",
    "    dynaQ.train(200, max_timestep=3000)\n",
    "    dynaQ_rewards.append(np.cumsum(dynaQ.rewards[:3000]))\n",
    "    \n",
    "for i in range(30):\n",
    "    blockedMaze.reset()\n",
    "    dynaQplus = DynaQPlus(blockedMaze, 0.8, 0.1, 10, 1e-4, 0.95)\n",
    "    dynaQplus.train(200, max_timestep=3000)\n",
    "    dynaQplus_rewards.append(np.cumsum(dynaQplus.rewards[:3000]))"
   ]
  },
  {
   "cell_type": "code",
   "execution_count": 565,
   "metadata": {},
   "outputs": [
    {
     "data": {
      "text/plain": [
       "Text(0,0.5,'cummulative reward')"
      ]
     },
     "execution_count": 565,
     "metadata": {},
     "output_type": "execute_result"
    },
    {
     "data": {
      "image/png": "[encoded data removed]",
      "text/plain": [
       "<matplotlib.figure.Figure at 0x1178c9f60>"
      ]
     },
     "metadata": {},
     "output_type": "display_data"
    }
   ],
   "source": [
    "plt.plot(range(3000), np.mean(dynaQ_rewards, axis=0), label='dynaQ')\n",
    "plt.plot(range(3000), np.mean(dynaQplus_rewards, axis=0), label='dynaQ+')\n",
    "plt.legend()\n",
    "plt.title('Figure 8.5')\n",
    "plt.xlabel('time steps')\n",
    "plt.ylabel('cummulative reward')"
   ]
  },
  {
   "cell_type": "markdown",
   "metadata": {},
   "source": [
    "## Example 8.3 shortcut maze"
   ]
  },
  {
   "cell_type": "code",
   "execution_count": 543,
   "metadata": {},
   "outputs": [],
   "source": [
    "class ShortcutMaze:\n",
    "    \"\"\"\n",
    "    env will be an interface with the following methods:\n",
    "    start: return a starting state\n",
    "    act: takes in an action and return next_state, reward, is_end\n",
    "    it should also have a class variable for actions allowed\n",
    "    \"\"\"\n",
    "    actions = ['u', 'd', 'l', 'r']\n",
    "    blocked = [(i,2) for i in range(1, 9)]\n",
    "    start_state = (3, 0)\n",
    "    goal_state = (8, 5)\n",
    "    x_lim = 8\n",
    "    y_lim = 5\n",
    "    step = 0\n",
    "    \n",
    "    def plot(self):\n",
    "        plt.figure(figsize=(9, 6))\n",
    "        plt.ylim([0,6])\n",
    "        plt.xlim([0, 9])\n",
    "        plt.text(self.start_state[0] + 0.5, self.start_state[1] + 0.5, \"S\")\n",
    "        plt.text(self.goal_state[0] + 0.5, self.goal_state[1] + 0.5, \"G\")\n",
    "        for coor in self.blocked:\n",
    "            plt.text(coor[0] + 0.5, coor[1] + 0.5, \"X\", color='red', fontsize='24')\n",
    "        plt.grid()\n",
    "        \n",
    "    def start(self):\n",
    "        self.state = self.start_state\n",
    "        return self.state\n",
    "    \n",
    "    def act(self, action):\n",
    "        if self.step == 3000:\n",
    "            self.blocked = self.blocked[:-1]\n",
    "        self.step += 1\n",
    "        if action == 'l':\n",
    "            next_state = max(0, self.state[0] -1), self.state[1]\n",
    "        elif action == 'r':\n",
    "            next_state = min(self.x_lim, self.state[0] + 1), self.state[1]\n",
    "        elif action == 'd':\n",
    "            next_state = self.state[0], max(0, self.state[1] - 1)\n",
    "        else:\n",
    "            next_state = self.state[0], min(self.state[1] + 1, self.y_lim)\n",
    "        if next_state in self.blocked:\n",
    "            next_state = self.state\n",
    "        self.state = next_state\n",
    "        if self.state == self.goal_state:\n",
    "            return self.state, 1, True\n",
    "        else:\n",
    "            return self.state, 0, False\n",
    "    def reset(self):\n",
    "        self.step = 0\n",
    "        self.blocked = [(i,2) for i in range(1, 9)]"
   ]
  },
  {
   "cell_type": "code",
   "execution_count": 560,
   "metadata": {},
   "outputs": [],
   "source": [
    "shortcut_maze = ShortcutMaze()"
   ]
  },
  {
   "cell_type": "code",
   "execution_count": 561,
   "metadata": {},
   "outputs": [
    {
     "data": {
      "image/png": "[encoded data removed]",
      "text/plain": [
       "<matplotlib.figure.Figure at 0x1183d5b70>"
      ]
     },
     "metadata": {},
     "output_type": "display_data"
    }
   ],
   "source": [
    "shortcut_maze.plot()"
   ]
  },
  {
   "cell_type": "code",
   "execution_count": 562,
   "metadata": {},
   "outputs": [],
   "source": [
    "dynaQ_rewards = []\n",
    "dynaQplus_rewards = []\n",
    "for i in range(5):\n",
    "    shortcut_maze.reset()\n",
    "    dynaQ = DynaQ(shortcut_maze, 0.7, 0.1, 50, 0.95)\n",
    "    dynaQ.train(800, max_timestep=6000)\n",
    "    dynaQ_rewards.append(np.cumsum(dynaQ.rewards[:6000]))\n",
    "    \n",
    "for i in range(5):\n",
    "    shortcut_maze.reset()\n",
    "    dynaQplus = DynaQPlus(shortcut_maze, 0.7, 0.1, 50, 1e-3, 0.95)\n",
    "    dynaQplus.train(800, max_timestep=6000)\n",
    "    dynaQplus_rewards.append(np.cumsum(dynaQplus.rewards[:6000]))"
   ]
  },
  {
   "cell_type": "code",
   "execution_count": 563,
   "metadata": {},
   "outputs": [
    {
     "data": {
      "text/plain": [
       "Text(0,0.5,'cummulative reward')"
      ]
     },
     "execution_count": 563,
     "metadata": {},
     "output_type": "execute_result"
    },
    {
     "data": {
      "image/png": "[encoded data removed]",
      "text/plain": [
       "<matplotlib.figure.Figure at 0x1183124e0>"
      ]
     },
     "metadata": {},
     "output_type": "display_data"
    }
   ],
   "source": [
    "plt.plot(range(6000), np.mean(dynaQ_rewards, axis=0), label='dynaQ')\n",
    "plt.plot(range(6000), np.mean(dynaQplus_rewards, axis=0), label='dynaQ+')\n",
    "plt.legend()\n",
    "plt.title('Figure 8.6')\n",
    "plt.xlabel('time steps')\n",
    "plt.ylabel('cummulative reward')"
   ]
  },
  {
   "cell_type": "code",
   "execution_count": null,
   "metadata": {},
   "outputs": [],
   "source": []
  }
 ],
 "metadata": {
  "kernelspec": {
   "display_name": "Python 3",
   "language": "python",
   "name": "python3"
  },
  "language_info": {
   "codemirror_mode": {
    "name": "ipython",
    "version": 3
   },
   "file_extension": ".py",
   "mimetype": "text/x-python",
   "name": "python",
   "nbconvert_exporter": "python",
   "pygments_lexer": "ipython3",
   "version": "3.6.3"
  }
 },
 "nbformat": 4,
 "nbformat_minor": 2
}
