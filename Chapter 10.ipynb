{
 "cells": [
  {
   "cell_type": "markdown",
   "metadata": {},
   "source": [
    "# Chapter 10"
   ]
  },
  {
   "cell_type": "markdown",
   "metadata": {},
   "source": [
    "## Example 10.2"
   ]
  },
  {
   "cell_type": "code",
   "execution_count": 41,
   "metadata": {},
   "outputs": [],
   "source": [
    "import numpy as np\n",
    "import matplotlib.pyplot as plt\n",
    "%matplotlib inline\n",
    "from collections import defaultdict"
   ]
  },
  {
   "cell_type": "code",
   "execution_count": 63,
   "metadata": {},
   "outputs": [],
   "source": [
    "class AccessControl:\n",
    "    \"\"\"\n",
    "    env will be an interface with the following methods:\n",
    "    start: return a starting state\n",
    "    act: takes in an action and return next_state, reward, is_end\n",
    "    it should also have a class variable for actions allowed\n",
    "    \"\"\"\n",
    "    def __init__(self, k, p):\n",
    "        self.k = k\n",
    "        self.p = p\n",
    "        self.actions = ['a', 'r']\n",
    "    \n",
    "    def start(self):\n",
    "        self.state = self.getCustomer(), np.random.randint(0, self.k+1)\n",
    "        return self.state\n",
    "    \n",
    "    def getCustomer(self):\n",
    "        return 2**np.random.randint(0,4)\n",
    "    \n",
    "    def act(self, action):\n",
    "        next_customer = self.getCustomer()\n",
    "        freed_server = np.random.binomial(self.k - self.state[1], self.p)\n",
    "        if self.state[1] == 0:\n",
    "            self.state = next_customer, freed_server\n",
    "            return self.state, 0, False\n",
    "        else:\n",
    "            if action == 'a':\n",
    "                free_server = self.state[1] - 1 + freed_server\n",
    "                reward = self.state[0]\n",
    "                self.state = next_customer, free_server\n",
    "                return self.state, reward, False\n",
    "            else:\n",
    "                self.state = next_customer, self.state[1] + freed_server\n",
    "                return self.state, 0, False\n",
    "    "
   ]
  },
  {
   "cell_type": "code",
   "execution_count": 64,
   "metadata": {},
   "outputs": [],
   "source": [
    "access_control = AccessControl(10, 0.06)"
   ]
  },
  {
   "cell_type": "code",
   "execution_count": 65,
   "metadata": {},
   "outputs": [],
   "source": [
    "class DSGSarsa():\n",
    "    # differential semi-gradient sarsa\n",
    "    def __init__(self, env, alpha, beta, epsilon, feature_length, state_action_function):\n",
    "        self.alpha = alpha\n",
    "        self.beta = beta\n",
    "        self.epsilon = epsilon\n",
    "        self.state_action_function = state_action_function # we assume state function is linear\n",
    "        self.theta = np.zeros(feature_length)\n",
    "        self.average_reward = 0\n",
    "        self.actions = env.actions\n",
    "        self.env = env\n",
    "        self.state = env.start()\n",
    "        self.action = np.random.choice(self.actions)\n",
    "        self.timestep = 0\n",
    "        \n",
    "    def select_action(self, state, e_greedy=True):\n",
    "        if e_greedy and np.random.uniform() < self.epsilon:\n",
    "            return np.random.choice(self.actions)\n",
    "        best_q = -100000\n",
    "        best_action = None\n",
    "        for action in self.actions:\n",
    "            features = self.state_action_function(state, action)\n",
    "            q = np.dot(features, self.theta)\n",
    "            if q > best_q:\n",
    "                best_q = q\n",
    "                best_action = action\n",
    "        return best_action\n",
    "            \n",
    "    \n",
    "    def train(self, timesteps):\n",
    "        while self.timestep < timesteps:\n",
    "            next_state, reward, _ = self.env.act(self.action)\n",
    "            features = self.state_action_function(self.state, self.action)\n",
    "            next_action = self.select_action(next_state)\n",
    "            next_features = self.state_action_function(next_state, next_action)\n",
    "            td_error = reward - self.average_reward + np.dot(next_features, self.theta) - np.dot(features, self.theta)\n",
    "            self.average_reward += self.beta * td_error\n",
    "            self.theta += self.alpha * td_error * features # assume linear function, thus grad q = features\n",
    "            self.state = next_state\n",
    "            self.action = next_action\n",
    "            self.timestep += 1"
   ]
  },
  {
   "cell_type": "code",
   "execution_count": 88,
   "metadata": {},
   "outputs": [],
   "source": [
    "def get_state_action_function(no_of_priority, k, no_of_action):\n",
    "    def state_action_function(state, action):\n",
    "        priority = int(np.log2(state[0]))\n",
    "        free_server = state[1]\n",
    "        act = 0 if action == 'a' else 1\n",
    "        features = np.zeros(no_of_priority * no_of_action * (k + 1))\n",
    "        index = priority * (k+1) * no_of_action + (free_server * no_of_action) + act\n",
    "        features[index] = 1\n",
    "        return features\n",
    "    return state_action_function"
   ]
  },
  {
   "cell_type": "code",
   "execution_count": 89,
   "metadata": {},
   "outputs": [],
   "source": [
    "agent = DSGSarsa(access_control, 0.01, 0.01, 0.1, 11 * 4 * 2, get_state_action_function(4, 10, 2))"
   ]
  },
  {
   "cell_type": "code",
   "execution_count": 96,
   "metadata": {},
   "outputs": [],
   "source": [
    "agent.train(2000000)"
   ]
  },
  {
   "cell_type": "code",
   "execution_count": 97,
   "metadata": {},
   "outputs": [
    {
     "data": {
      "text/plain": [
       "2.6626568119687368"
      ]
     },
     "execution_count": 97,
     "metadata": {},
     "output_type": "execute_result"
    }
   ],
   "source": [
    "agent.average_reward"
   ]
  },
  {
   "cell_type": "code",
   "execution_count": 98,
   "metadata": {},
   "outputs": [],
   "source": [
    "policy = [[agent.select_action((priority, free), False) for free in range(1, 11)] for priority in [1, 2, 4, 8]]"
   ]
  },
  {
   "cell_type": "code",
   "execution_count": 99,
   "metadata": {},
   "outputs": [
    {
     "data": {
      "text/plain": [
       "[['r', 'r', 'r', 'r', 'r', 'a', 'a', 'a', 'r', 'a'],\n",
       " ['r', 'r', 'r', 'a', 'a', 'a', 'a', 'a', 'a', 'a'],\n",
       " ['a', 'a', 'a', 'a', 'a', 'a', 'a', 'a', 'a', 'a'],\n",
       " ['a', 'a', 'a', 'a', 'a', 'a', 'a', 'a', 'a', 'a']]"
      ]
     },
     "execution_count": 99,
     "metadata": {},
     "output_type": "execute_result"
    }
   ],
   "source": [
    "policy"
   ]
  },
  {
   "cell_type": "code",
   "execution_count": 104,
   "metadata": {},
   "outputs": [
    {
     "data": {
      "text/plain": [
       "Text(0.5,1,'Figure 10.5')"
      ]
     },
     "execution_count": 104,
     "metadata": {},
     "output_type": "execute_result"
    },
    {
     "data": {
      "image/png": "[encoded data removed]",
      "text/plain": [
       "<matplotlib.figure.Figure at 0x10b816c88>"
      ]
     },
     "metadata": {},
     "output_type": "display_data"
    }
   ],
   "source": [
    "for priority in [1, 2, 4, 8]:\n",
    "    plt.plot(range(11),\\\n",
    "             [np.dot(agent.state_action_function((priority, free), agent.select_action((priority,free), False)), agent.theta)\\\n",
    "              for free in range(11)], label='priority %d' %priority)\n",
    "    \n",
    "plt.legend()\n",
    "plt.ylabel('differential value of best action')\n",
    "plt.xlabel('free server')\n",
    "plt.xticks(range(11))\n",
    "plt.title('Figure 10.5')"
   ]
  },
  {
   "cell_type": "code",
   "execution_count": null,
   "metadata": {},
   "outputs": [],
   "source": []
  }
 ],
 "metadata": {
  "kernelspec": {
   "display_name": "Python 3",
   "language": "python",
   "name": "python3"
  },
  "language_info": {
   "codemirror_mode": {
    "name": "ipython",
    "version": 3
   },
   "file_extension": ".py",
   "mimetype": "text/x-python",
   "name": "python",
   "nbconvert_exporter": "python",
   "pygments_lexer": "ipython3",
   "version": "3.6.3"
  }
 },
 "nbformat": 4,
 "nbformat_minor": 2
}
