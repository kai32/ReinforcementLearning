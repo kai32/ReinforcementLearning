{
 "cells": [
  {
   "cell_type": "markdown",
   "metadata": {},
   "source": [
    "# Chapter 11"
   ]
  },
  {
   "cell_type": "code",
   "execution_count": 1,
   "metadata": {},
   "outputs": [],
   "source": [
    "import numpy as np\n",
    "import matplotlib.pyplot as plt\n",
    "%matplotlib inline\n",
    "from collections import defaultdict"
   ]
  },
  {
   "cell_type": "markdown",
   "metadata": {},
   "source": [
    "## Baird's counterexample"
   ]
  },
  {
   "cell_type": "code",
   "execution_count": 83,
   "metadata": {},
   "outputs": [],
   "source": [
    "class Baird:\n",
    "    \"\"\"\n",
    "    env will be an interface with the following methods:\n",
    "    start: return a starting state\n",
    "    act: takes in an action and return next_state, reward, is_end\n",
    "    it should also have a class variable for actions allowed\n",
    "    \"\"\"\n",
    "    actions = ['s', 'd']\n",
    "    \n",
    "    def start(self):\n",
    "        self.state = np.random.randint(0, 7)\n",
    "        return self.state\n",
    "    \n",
    "    def act(self, action):\n",
    "        if np.random.uniform() < 0.01:\n",
    "            return None, 0, True\n",
    "        if action == 's':\n",
    "            self.state = 6\n",
    "            return self.state, 0, False\n",
    "        else:\n",
    "            i = np.random.randint(0, 6)\n",
    "            if i < self.state:\n",
    "                self.state = i\n",
    "            else:\n",
    "                self.state = i + 1\n",
    "            return self.state, 0, False"
   ]
  },
  {
   "cell_type": "code",
   "execution_count": 84,
   "metadata": {},
   "outputs": [],
   "source": [
    "baird = Baird()"
   ]
  },
  {
   "cell_type": "code",
   "execution_count": 85,
   "metadata": {},
   "outputs": [],
   "source": [
    "class Policy:\n",
    "    def getAction(self, state):\n",
    "        pass\n",
    "    \n",
    "    def getProb(state, action):\n",
    "        pass\n",
    "    \n",
    "class BehaviorPolicy(Policy):\n",
    "    def __call__(self, state):\n",
    "        return np.random.choice(['d', 'd', 'd', 'd', 'd', 'd', 's'])\n",
    "    def getProb(self, state, action):\n",
    "        if action == 'd':\n",
    "            return 6/7\n",
    "        else:\n",
    "            return 1/7\n",
    "\n",
    "class TargetPolicy(Policy):\n",
    "    def __call__(self, state):\n",
    "        return 's'\n",
    "    def getProb(self, state, action):\n",
    "        return 1 if action =='s' else 0"
   ]
  },
  {
   "cell_type": "code",
   "execution_count": 101,
   "metadata": {},
   "outputs": [],
   "source": [
    "def baird_state_action_fn(state):\n",
    "    features = np.zeros(8)\n",
    "    features[state] = 2 if state < 6 else 1\n",
    "    features[7] = 1 if state < 6 else 2\n",
    "    return features"
   ]
  },
  {
   "cell_type": "code",
   "execution_count": 105,
   "metadata": {},
   "outputs": [],
   "source": [
    "class OffPolicySGTD0:\n",
    "    # off policy semi-gradient TD(0)\n",
    "    \n",
    "    def __init__(self, env, alpha, gamma, feature_length, state_fn, behaviorPolicy, targetPolicy, init_theta=None):\n",
    "        self.env = env\n",
    "        self.alpha = alpha\n",
    "        self.gamma = gamma\n",
    "        self.state_fn = state_fn\n",
    "        self.mu = behaviorPolicy\n",
    "        self.pi = targetPolicy\n",
    "        if init_theta is not None:\n",
    "            self.theta = init_theta\n",
    "        else:\n",
    "            self.theta = np.zeros(feature_length)\n",
    "        self.episode = 0\n",
    "        self.all_theta = [np.copy(self.theta)]\n",
    "        \n",
    "    def evaluate(self, episodes):\n",
    "        while self.episode < episodes:\n",
    "            state = self.env.start()\n",
    "            is_end = False\n",
    "            while not is_end:\n",
    "                action = self.mu(state)\n",
    "                next_state, reward, is_end = self.env.act(action)\n",
    "                features = self.state_fn(state)\n",
    "                next_value = np.dot(self.state_fn(next_state), self.theta) if not is_end else 0\n",
    "                td_error = reward + self.gamma * next_value - np.dot(features, self.theta)\n",
    "                rho = self.pi.getProb(state, action)/self.mu.getProb(state, action)\n",
    "                self.theta += self.alpha * rho * td_error * features # assume linear fn approx\n",
    "                state = next_state\n",
    "            self.all_theta.append(np.copy(self.theta))\n",
    "            self.episode += 1"
   ]
  },
  {
   "cell_type": "code",
   "execution_count": 109,
   "metadata": {},
   "outputs": [],
   "source": [
    "agent = OffPolicySGTD0(baird, 0.001, 1, 8, baird_state_action_fn, BehaviorPolicy(), TargetPolicy(), np.array([1,1,1,1,1,1,10,1], dtype='float64'))"
   ]
  },
  {
   "cell_type": "code",
   "execution_count": 110,
   "metadata": {},
   "outputs": [],
   "source": [
    "agent.evaluate(100)"
   ]
  },
  {
   "cell_type": "code",
   "execution_count": 112,
   "metadata": {},
   "outputs": [
    {
     "data": {
      "text/plain": [
       "Text(0.5,1,'Figure 11.2')"
      ]
     },
     "execution_count": 112,
     "metadata": {},
     "output_type": "execute_result"
    },
    {
     "data": {
      "image/png": "[encoded data removed]",
      "text/plain": [
       "<matplotlib.figure.Figure at 0x1082a34e0>"
      ]
     },
     "metadata": {},
     "output_type": "display_data"
    }
   ],
   "source": [
    "thetas = np.array(agent.all_theta)\n",
    "for i in range(8):\n",
    "    plt.plot(range(101), thetas[:, i])\n",
    "\n",
    "plt.ylabel(\"Components of the parameter vector\")\n",
    "plt.xlabel(\"Episodes\")\n",
    "plt.title(\"Figure 11.2\")"
   ]
  },
  {
   "cell_type": "code",
   "execution_count": null,
   "metadata": {},
   "outputs": [],
   "source": []
  }
 ],
 "metadata": {
  "kernelspec": {
   "display_name": "Python 3",
   "language": "python",
   "name": "python3"
  },
  "language_info": {
   "codemirror_mode": {
    "name": "ipython",
    "version": 3
   },
   "file_extension": ".py",
   "mimetype": "text/x-python",
   "name": "python",
   "nbconvert_exporter": "python",
   "pygments_lexer": "ipython3",
   "version": "3.6.3"
  }
 },
 "nbformat": 4,
 "nbformat_minor": 2
}
